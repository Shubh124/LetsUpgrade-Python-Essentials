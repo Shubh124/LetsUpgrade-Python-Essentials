{
 "cells": [
  {
   "cell_type": "markdown",
   "metadata": {},
   "source": [
    "# Solution 1"
   ]
  },
  {
   "cell_type": "code",
   "execution_count": 6,
   "metadata": {},
   "outputs": [
    {
     "name": "stdout",
     "output_type": "stream",
     "text": [
      "Enter a the height of the plane - 1000\n",
      "('Land the plane because height is', 1000)\n"
     ]
    }
   ],
   "source": [
    "num = input(\"Enter a the height of the plane - \")\n",
    "i = int(num)\n",
    "if i<=1000:\n",
    "    print(\"Land the plane because height is\", i)\n",
    "elif i>1000 and i<5000:\n",
    "    print(\"Come down to 1000ft because height is\", i)\n",
    "else:\n",
    "    print(\"Go around and try later because height is\", i)\n"
   ]
  },
  {
   "cell_type": "code",
   "execution_count": 7,
   "metadata": {},
   "outputs": [
    {
     "name": "stdout",
     "output_type": "stream",
     "text": [
      "Enter a the height of the plane - 4500\n",
      "('Come down to 1000ft because height is', 4500)\n"
     ]
    }
   ],
   "source": [
    "num = input(\"Enter a the height of the plane - \")\n",
    "i = int(num)\n",
    "if i<=1000:\n",
    "    print(\"Land the plane because height is\", i)\n",
    "elif i>1000 and i<5000:\n",
    "    print(\"Come down to 1000ft because height is\", i)\n",
    "else:\n",
    "    print(\"Go around and try later because height is\", i)"
   ]
  },
  {
   "cell_type": "code",
   "execution_count": 8,
   "metadata": {},
   "outputs": [
    {
     "name": "stdout",
     "output_type": "stream",
     "text": [
      "Enter a the height of the plane - 6500\n",
      "('Go around and try later because height is', 6500)\n"
     ]
    }
   ],
   "source": [
    "num = input(\"Enter a the height of the plane - \")\n",
    "i = int(num)\n",
    "if i<=1000:\n",
    "    print(\"Land the plane because height is\", i)\n",
    "elif i>1000 and i<5000:\n",
    "    print(\"Come down to 1000ft because height is\", i)\n",
    "else:\n",
    "    print(\"Go around and try later because height is\", i)"
   ]
  },
  {
   "cell_type": "markdown",
   "metadata": {},
   "source": [
    "# Solution 2"
   ]
  },
  {
   "cell_type": "code",
   "execution_count": 21,
   "metadata": {},
   "outputs": [
    {
     "name": "stdout",
     "output_type": "stream",
     "text": [
      "2\n",
      "3\n",
      "5\n",
      "7\n",
      "11\n",
      "13\n",
      "17\n",
      "19\n",
      "23\n",
      "29\n",
      "31\n",
      "37\n",
      "41\n",
      "43\n",
      "47\n",
      "53\n",
      "59\n",
      "61\n",
      "67\n",
      "71\n",
      "73\n",
      "79\n",
      "83\n",
      "89\n",
      "97\n",
      "101\n",
      "103\n",
      "107\n",
      "109\n",
      "113\n",
      "127\n",
      "131\n",
      "137\n",
      "139\n",
      "149\n",
      "151\n",
      "157\n",
      "163\n",
      "167\n",
      "173\n",
      "179\n",
      "181\n",
      "191\n",
      "193\n",
      "197\n",
      "199\n"
     ]
    }
   ],
   "source": [
    "for i in range(1,201):\n",
    "    if i>1:\n",
    "        for j in range(2,i):\n",
    "            if i%j==0:\n",
    "                break\n",
    "        else:\n",
    "            print(i)"
   ]
  },
  {
   "cell_type": "code",
   "execution_count": null,
   "metadata": {},
   "outputs": [],
   "source": []
  }
 ],
 "metadata": {
  "kernelspec": {
   "display_name": "Python 2",
   "language": "python",
   "name": "python2"
  },
  "language_info": {
   "codemirror_mode": {
    "name": "ipython",
    "version": 2
   },
   "file_extension": ".py",
   "mimetype": "text/x-python",
   "name": "python",
   "nbconvert_exporter": "python",
   "pygments_lexer": "ipython2",
   "version": "2.7.15"
  }
 },
 "nbformat": 4,
 "nbformat_minor": 2
}
